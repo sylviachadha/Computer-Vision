{
 "cells": [
  {
   "cell_type": "markdown",
   "metadata": {},
   "source": [
    "## Cat/Dog Binary Classification"
   ]
  },
  {
   "cell_type": "markdown",
   "metadata": {},
   "source": [
    "MNIST was a built in dataset. However for Cat/Dog problem we have to read data that is on disk. So we will need a module called as ImageDataGenerator from keras. There is one function from that ImageDataGenerator object called as flow_from_directory which we will use."
   ]
  },
  {
   "cell_type": "code",
   "execution_count": 1,
   "metadata": {},
   "outputs": [],
   "source": [
    "from tensorflow.keras.models import Sequential\n",
    "from tensorflow.keras.layers import Activation, Dropout, Flatten, Dense,Conv2D,MaxPooling2D\n",
    "\n",
    "from tensorflow.keras.preprocessing.image import ImageDataGenerator\n",
    "\n",
    "\n",
    "import numpy as np\n",
    "from tensorflow.keras.preprocessing import image"
   ]
  },
  {
   "cell_type": "code",
   "execution_count": 2,
   "metadata": {},
   "outputs": [
    {
     "name": "stderr",
     "output_type": "stream",
     "text": [
      "2023-09-04 21:20:30.997584: I tensorflow/core/platform/cpu_feature_guard.cc:193] This TensorFlow binary is optimized with oneAPI Deep Neural Network Library (oneDNN) to use the following CPU instructions in performance-critical operations:  SSE4.1 SSE4.2\n",
      "To enable them in other operations, rebuild TensorFlow with the appropriate compiler flags.\n"
     ]
    }
   ],
   "source": [
    "## Initialising the CNN\n",
    "classifier = Sequential()"
   ]
  },
  {
   "cell_type": "code",
   "execution_count": 3,
   "metadata": {},
   "outputs": [],
   "source": [
    "## Architecture\n",
    "\n",
    "## Convolution\n",
    "classifier.add(Conv2D(64,(3,3),input_shape = (64,64,3), activation = 'relu'))\n",
    "## MaxPooling\n",
    "classifier.add(MaxPooling2D(pool_size = (2,2)))\n",
    "\n",
    "## Add another layer\n",
    "classifier.add(Conv2D(64,(3,3), activation = 'relu'))\n",
    "classifier.add(MaxPooling2D(pool_size = (2,2)))\n",
    "\n",
    "## Add another layer\n",
    "classifier.add(Conv2D(64,(3,3), activation = 'relu'))\n",
    "classifier.add(MaxPooling2D(pool_size = (2,2)))\n"
   ]
  },
  {
   "cell_type": "code",
   "execution_count": 4,
   "metadata": {},
   "outputs": [],
   "source": [
    "## Flattening\n",
    "classifier.add(Flatten())"
   ]
  },
  {
   "cell_type": "code",
   "execution_count": 5,
   "metadata": {},
   "outputs": [],
   "source": [
    "## Fully connected ANN, Hidden ANN and output layer\n",
    "\n",
    "#hidden layer\n",
    "classifier.add(Dense(units = 128, activation = 'relu'))\n",
    "#output layer\n",
    "classifier.add(Dense(units = 1, activation = 'sigmoid'))"
   ]
  },
  {
   "cell_type": "code",
   "execution_count": 6,
   "metadata": {},
   "outputs": [],
   "source": [
    "## Compliling\n",
    "classifier.compile(optimizer = 'adam', loss = 'binary_crossentropy', metrics = ['accuracy'])"
   ]
  },
  {
   "cell_type": "code",
   "execution_count": 7,
   "metadata": {},
   "outputs": [
    {
     "name": "stdout",
     "output_type": "stream",
     "text": [
      "Model: \"sequential\"\n",
      "_________________________________________________________________\n",
      " Layer (type)                Output Shape              Param #   \n",
      "=================================================================\n",
      " conv2d (Conv2D)             (None, 62, 62, 64)        1792      \n",
      "                                                                 \n",
      " max_pooling2d (MaxPooling2D  (None, 31, 31, 64)       0         \n",
      " )                                                               \n",
      "                                                                 \n",
      " conv2d_1 (Conv2D)           (None, 29, 29, 64)        36928     \n",
      "                                                                 \n",
      " max_pooling2d_1 (MaxPooling  (None, 14, 14, 64)       0         \n",
      " 2D)                                                             \n",
      "                                                                 \n",
      " conv2d_2 (Conv2D)           (None, 12, 12, 64)        36928     \n",
      "                                                                 \n",
      " max_pooling2d_2 (MaxPooling  (None, 6, 6, 64)         0         \n",
      " 2D)                                                             \n",
      "                                                                 \n",
      " flatten (Flatten)           (None, 2304)              0         \n",
      "                                                                 \n",
      " dense (Dense)               (None, 128)               295040    \n",
      "                                                                 \n",
      " dense_1 (Dense)             (None, 1)                 129       \n",
      "                                                                 \n",
      "=================================================================\n",
      "Total params: 370,817\n",
      "Trainable params: 370,817\n",
      "Non-trainable params: 0\n",
      "_________________________________________________________________\n"
     ]
    }
   ],
   "source": [
    "classifier.summary()"
   ]
  },
  {
   "cell_type": "markdown",
   "metadata": {},
   "source": [
    "*Create 2 instances for ImageDataGenerator, one for train data and other for test data such that using these instances when u r importing some data the data/images will be rescaled using min-max scaling so as to achieve faster convergence*"
   ]
  },
  {
   "cell_type": "code",
   "execution_count": 8,
   "metadata": {},
   "outputs": [],
   "source": [
    "# Creating instances\n",
    "train_datagen = ImageDataGenerator(rescale=1./255)\n",
    "test_datagen = ImageDataGenerator(rescale=1./255)\n"
   ]
  },
  {
   "cell_type": "code",
   "execution_count": 9,
   "metadata": {},
   "outputs": [
    {
     "data": {
      "text/plain": [
       "'/Users/sylvia/Desktop/IITR/M10-CV/Live_lectures'"
      ]
     },
     "execution_count": 9,
     "metadata": {},
     "output_type": "execute_result"
    }
   ],
   "source": [
    "pwd"
   ]
  },
  {
   "cell_type": "markdown",
   "metadata": {},
   "source": [
    "*There are 2 sub-folders in directory and it is binary classification hence we use class_mode=binary*"
   ]
  },
  {
   "cell_type": "markdown",
   "metadata": {},
   "source": [
    "*<font color=blue>Be it any shape the original images, i want the images to be target_size=(64, 64) because my neural n/w is made to handle input_shape = (64,64,3) during defining its architecture*"
   ]
  },
  {
   "cell_type": "markdown",
   "metadata": {},
   "source": [
    "*Since by default the color_mode = rgb, so in target_size dimension for channel will be automatically assumed as 3. If we had greyscale images, we need to specify color_mode='grayscale' so that dimension for channel can be assumed as 1.*"
   ]
  },
  {
   "attachments": {
    "image.png": {
     "image/png": "[encoded data removed]"
    }
   },
   "cell_type": "markdown",
   "metadata": {},
   "source": [
    "![image.png](attachment:image.png)"
   ]
  },
  {
   "cell_type": "markdown",
   "metadata": {},
   "source": [
    "### To load data"
   ]
  },
  {
   "attachments": {
    "image.png": {
     "image/png": "[encoded data removed]"
    }
   },
   "cell_type": "markdown",
   "metadata": {},
   "source": [
    "**Technique1** - To maintain structure directory when loading images. You have seperate folders for seperate classes withing training and test folders.\n",
    "\n",
    "![image.png](attachment:image.png)"
   ]
  },
  {
   "cell_type": "markdown",
   "metadata": {},
   "source": [
    "**Technique2** - Apart from above technique another way to load data where u will have all images of all categories in 1 folder & u will save those filenames in an excel and u will label that in an excel or csv file."
   ]
  },
  {
   "cell_type": "markdown",
   "metadata": {},
   "source": [
    "As below all images have to be (64, 64). If u want to change here when importing data u will have to fine tune ur model by changing the size which is defined in the architecture."
   ]
  },
  {
   "cell_type": "code",
   "execution_count": 10,
   "metadata": {},
   "outputs": [
    {
     "name": "stdout",
     "output_type": "stream",
     "text": [
      "Found 98 images belonging to 2 classes.\n"
     ]
    }
   ],
   "source": [
    "## Importing training data\n",
    "train_set = train_datagen.flow_from_directory('data/catdog_ds/training',target_size=(64, 64),class_mode='binary')"
   ]
  },
  {
   "cell_type": "code",
   "execution_count": 11,
   "metadata": {},
   "outputs": [
    {
     "data": {
      "text/plain": [
       "(64, 64, 3)"
      ]
     },
     "execution_count": 11,
     "metadata": {},
     "output_type": "execute_result"
    }
   ],
   "source": [
    "train_set.image_shape"
   ]
  },
  {
   "cell_type": "code",
   "execution_count": 12,
   "metadata": {},
   "outputs": [
    {
     "data": {
      "text/plain": [
       "32"
      ]
     },
     "execution_count": 12,
     "metadata": {},
     "output_type": "execute_result"
    }
   ],
   "source": [
    "train_set.batch_size"
   ]
  },
  {
   "cell_type": "code",
   "execution_count": 13,
   "metadata": {},
   "outputs": [
    {
     "data": {
      "text/plain": [
       "'rgb'"
      ]
     },
     "execution_count": 13,
     "metadata": {},
     "output_type": "execute_result"
    }
   ],
   "source": [
    "train_set.color_mode"
   ]
  },
  {
   "cell_type": "code",
   "execution_count": 14,
   "metadata": {},
   "outputs": [
    {
     "data": {
      "text/plain": [
       "array([0, 0, 0, 0, 0, 0, 0, 0, 0, 0, 0, 0, 0, 0, 0, 0, 0, 0, 0, 0, 0, 0,\n",
       "       0, 0, 0, 0, 0, 0, 0, 0, 0, 0, 0, 0, 0, 0, 0, 0, 0, 0, 0, 0, 0, 0,\n",
       "       0, 0, 0, 0, 0, 1, 1, 1, 1, 1, 1, 1, 1, 1, 1, 1, 1, 1, 1, 1, 1, 1,\n",
       "       1, 1, 1, 1, 1, 1, 1, 1, 1, 1, 1, 1, 1, 1, 1, 1, 1, 1, 1, 1, 1, 1,\n",
       "       1, 1, 1, 1, 1, 1, 1, 1, 1, 1], dtype=int32)"
      ]
     },
     "execution_count": 14,
     "metadata": {},
     "output_type": "execute_result"
    }
   ],
   "source": [
    "train_set.classes"
   ]
  },
  {
   "cell_type": "code",
   "execution_count": 15,
   "metadata": {},
   "outputs": [],
   "source": [
    "### Dictionary ordering, cats take class 0 and dogs take class 1."
   ]
  },
  {
   "cell_type": "code",
   "execution_count": 16,
   "metadata": {},
   "outputs": [
    {
     "data": {
      "text/plain": [
       "{'cats': 0, 'dogs': 1}"
      ]
     },
     "execution_count": 16,
     "metadata": {},
     "output_type": "execute_result"
    }
   ],
   "source": [
    "#Two classes are label encoded\n",
    "train_set.class_indices"
   ]
  },
  {
   "cell_type": "markdown",
   "metadata": {},
   "source": [
    "#which is cat which is dog?\n",
    "label_map = (train_set.class_indices)\n",
    "print(label_map)"
   ]
  },
  {
   "cell_type": "code",
   "execution_count": 17,
   "metadata": {},
   "outputs": [
    {
     "name": "stdout",
     "output_type": "stream",
     "text": [
      "Found 38 images belonging to 2 classes.\n"
     ]
    }
   ],
   "source": [
    "## Importng test data\n",
    "test_set = test_datagen.flow_from_directory('data/catdog_ds/test',target_size=(64, 64),class_mode='binary')"
   ]
  },
  {
   "cell_type": "code",
   "execution_count": 18,
   "metadata": {},
   "outputs": [
    {
     "name": "stdout",
     "output_type": "stream",
     "text": [
      "Epoch 1/10\n",
      "4/4 [==============================] - 1s 138ms/step - loss: 0.7072 - accuracy: 0.4592 - val_loss: 0.6897 - val_accuracy: 0.5526\n",
      "Epoch 2/10\n",
      "4/4 [==============================] - 0s 103ms/step - loss: 0.7406 - accuracy: 0.5102 - val_loss: 0.7187 - val_accuracy: 0.5000\n",
      "Epoch 3/10\n",
      "4/4 [==============================] - 0s 96ms/step - loss: 0.7013 - accuracy: 0.5000 - val_loss: 0.6897 - val_accuracy: 0.5263\n",
      "Epoch 4/10\n",
      "4/4 [==============================] - 0s 108ms/step - loss: 0.6851 - accuracy: 0.5102 - val_loss: 0.6958 - val_accuracy: 0.5000\n",
      "Epoch 5/10\n",
      "4/4 [==============================] - 0s 118ms/step - loss: 0.6903 - accuracy: 0.5102 - val_loss: 0.6886 - val_accuracy: 0.5789\n",
      "Epoch 6/10\n",
      "4/4 [==============================] - 0s 112ms/step - loss: 0.6769 - accuracy: 0.5510 - val_loss: 0.7066 - val_accuracy: 0.5000\n",
      "Epoch 7/10\n",
      "4/4 [==============================] - 0s 137ms/step - loss: 0.6828 - accuracy: 0.5204 - val_loss: 0.6769 - val_accuracy: 0.6316\n",
      "Epoch 8/10\n",
      "4/4 [==============================] - 0s 110ms/step - loss: 0.7068 - accuracy: 0.6020 - val_loss: 0.7219 - val_accuracy: 0.5263\n",
      "Epoch 9/10\n",
      "4/4 [==============================] - 0s 99ms/step - loss: 0.6701 - accuracy: 0.5408 - val_loss: 0.6600 - val_accuracy: 0.6316\n",
      "Epoch 10/10\n",
      "4/4 [==============================] - 0s 110ms/step - loss: 0.6214 - accuracy: 0.7347 - val_loss: 0.6822 - val_accuracy: 0.5526\n"
     ]
    },
    {
     "data": {
      "text/plain": [
       "<keras.callbacks.History at 0x7fce8642bfd0>"
      ]
     },
     "execution_count": 18,
     "metadata": {},
     "output_type": "execute_result"
    }
   ],
   "source": [
    "## fitting model to images\n",
    "classifier.fit(train_set,epochs=10,validation_data=test_set)"
   ]
  },
  {
   "cell_type": "code",
   "execution_count": 19,
   "metadata": {},
   "outputs": [
    {
     "name": "stdout",
     "output_type": "stream",
     "text": [
      "2/2 [==============================] - 0s 8ms/step - loss: 0.6822 - accuracy: 0.5526\n"
     ]
    },
    {
     "data": {
      "text/plain": [
       "[0.682216465473175, 0.5526315569877625]"
      ]
     },
     "execution_count": 19,
     "metadata": {},
     "output_type": "execute_result"
    }
   ],
   "source": [
    "classifier.evaluate(test_set)"
   ]
  },
  {
   "cell_type": "code",
   "execution_count": 20,
   "metadata": {},
   "outputs": [
    {
     "name": "stdout",
     "output_type": "stream",
     "text": [
      "2/2 [==============================] - 0s 8ms/step\n"
     ]
    },
    {
     "data": {
      "text/plain": [
       "array([[0.36027467],\n",
       "       [0.52847046],\n",
       "       [0.4722217 ],\n",
       "       [0.36412525],\n",
       "       [0.27079016],\n",
       "       [0.4348365 ],\n",
       "       [0.6298437 ],\n",
       "       [0.28871742],\n",
       "       [0.34466672],\n",
       "       [0.03764915],\n",
       "       [0.45748162],\n",
       "       [0.50255257],\n",
       "       [0.4366351 ],\n",
       "       [0.40897015],\n",
       "       [0.46201366],\n",
       "       [0.3974557 ],\n",
       "       [0.3053244 ],\n",
       "       [0.51046556],\n",
       "       [0.37251893],\n",
       "       [0.45574018],\n",
       "       [0.5069681 ],\n",
       "       [0.46079665],\n",
       "       [0.3567595 ],\n",
       "       [0.39477122],\n",
       "       [0.54977524],\n",
       "       [0.5240836 ],\n",
       "       [0.4720357 ],\n",
       "       [0.46642876],\n",
       "       [0.46680626],\n",
       "       [0.4697525 ],\n",
       "       [0.36266556],\n",
       "       [0.54598445],\n",
       "       [0.59281075],\n",
       "       [0.5193129 ],\n",
       "       [0.25177628],\n",
       "       [0.24472639],\n",
       "       [0.43131185],\n",
       "       [0.3220042 ]], dtype=float32)"
      ]
     },
     "execution_count": 20,
     "metadata": {},
     "output_type": "execute_result"
    }
   ],
   "source": [
    "result = classifier.predict(test_set)\n",
    "result"
   ]
  },
  {
   "cell_type": "markdown",
   "metadata": {},
   "source": [
    "In a binary classification problem with a single output neuron using a sigmoid activation function, the typical convention is that the output value represents the probability of the sample belonging to the \"positive\" class (often labeled as `1`). The probability of the sample belonging to the \"negative\" class (`0`) can then be computed as `1 - p`, where `p` is the output probability.\n",
    "\n",
    "The reason for this convention largely comes down to how the training labels and loss functions are commonly set up. In your training set, you have specified that 'dogs' are associated with `1` and 'cats` are associated with `0` (`train_set.class_indices {'cats': 0, 'dogs': 1}`). During training, the neural network adjusts its weights to output a value close to `1` when it sees a dog and close to `0` when it sees a cat.\n",
    "\n",
    "In this framework:\n",
    "\n",
    "- An output close to `1` indicates a strong belief that the sample is a dog (class 1).\n",
    "- An output close to `0` indicates a strong belief that the sample is a cat (class 0).\n",
    "\n",
    "So when you call `classifier.predict(test_set)`, the values you are seeing are the model's estimated probabilities that each sample in `test_set` is a dog (class 1). If you want to get the probability that each sample is a cat (class 0), you can simply calculate `1 - result`."
   ]
  },
  {
   "cell_type": "markdown",
   "metadata": {},
   "source": [
    "Note: These approaches assume that you are doing binary classification and that the class label for 'dog' is 1 (or probability >= 0.5) and for 'cat' is 0 (or probability < 0.5). Make sure to adjust the code according to how your specific model and data are configured.\n",
    "\n",
    "\n",
    "\n",
    "\n"
   ]
  },
  {
   "cell_type": "markdown",
   "metadata": {},
   "source": [
    "**Technique1 to classify as cat or dog**"
   ]
  },
  {
   "cell_type": "markdown",
   "metadata": {},
   "source": [
    "Defining threshold to convert probability to labels of cat and dog."
   ]
  },
  {
   "cell_type": "code",
   "execution_count": 21,
   "metadata": {},
   "outputs": [
    {
     "name": "stdout",
     "output_type": "stream",
     "text": [
      "['cat', 'dog', 'cat', 'cat', 'cat', 'cat', 'dog', 'cat', 'cat', 'cat', 'cat', 'dog', 'cat', 'cat', 'cat', 'cat', 'cat', 'dog', 'cat', 'cat', 'dog', 'cat', 'cat', 'cat', 'dog', 'dog', 'cat', 'cat', 'cat', 'cat', 'cat', 'dog', 'dog', 'dog', 'cat', 'cat', 'cat', 'cat']\n"
     ]
    }
   ],
   "source": [
    "## Class label of dog and cat\n",
    "\n",
    "predictions = []\n",
    "\n",
    "for res in result:\n",
    "    if res >= 0.5:\n",
    "        predictions.append('dog')\n",
    "    else:\n",
    "        predictions.append('cat')\n",
    "\n",
    "print(predictions)"
   ]
  },
  {
   "cell_type": "markdown",
   "metadata": {},
   "source": [
    "**Technique2 to classify as cat or dog**"
   ]
  },
  {
   "cell_type": "code",
   "execution_count": 22,
   "metadata": {},
   "outputs": [
    {
     "data": {
      "text/plain": [
       "array([['cat'],\n",
       "       ['dog'],\n",
       "       ['cat'],\n",
       "       ['cat'],\n",
       "       ['cat'],\n",
       "       ['cat'],\n",
       "       ['dog'],\n",
       "       ['cat'],\n",
       "       ['cat'],\n",
       "       ['cat'],\n",
       "       ['cat'],\n",
       "       ['dog'],\n",
       "       ['cat'],\n",
       "       ['cat'],\n",
       "       ['cat'],\n",
       "       ['cat'],\n",
       "       ['cat'],\n",
       "       ['dog'],\n",
       "       ['cat'],\n",
       "       ['cat'],\n",
       "       ['dog'],\n",
       "       ['cat'],\n",
       "       ['cat'],\n",
       "       ['cat'],\n",
       "       ['dog'],\n",
       "       ['dog'],\n",
       "       ['cat'],\n",
       "       ['cat'],\n",
       "       ['cat'],\n",
       "       ['cat'],\n",
       "       ['cat'],\n",
       "       ['dog'],\n",
       "       ['dog'],\n",
       "       ['dog'],\n",
       "       ['cat'],\n",
       "       ['cat'],\n",
       "       ['cat'],\n",
       "       ['cat']], dtype='<U3')"
      ]
     },
     "execution_count": 22,
     "metadata": {},
     "output_type": "execute_result"
    }
   ],
   "source": [
    "predictions = np.where(result >= 0.5, 'dog', 'cat')\n",
    "predictions"
   ]
  },
  {
   "cell_type": "code",
   "execution_count": 23,
   "metadata": {},
   "outputs": [],
   "source": [
    "#save the model\n",
    "#classifier.save('catdogmodel1311.h5')"
   ]
  },
  {
   "cell_type": "code",
   "execution_count": 24,
   "metadata": {},
   "outputs": [],
   "source": [
    "## Prediction of single new data\n",
    "\n",
    "test_image= image.load_img('data/catdog_ds/inference/dog1.jpg' ,target_size =(64,64))"
   ]
  },
  {
   "cell_type": "code",
   "execution_count": 25,
   "metadata": {},
   "outputs": [
    {
     "data": {
      "image/png": "[encoded data removed]",
      "text/plain": [
       "<PIL.Image.Image image mode=RGB size=64x64>"
      ]
     },
     "execution_count": 25,
     "metadata": {},
     "output_type": "execute_result"
    }
   ],
   "source": [
    "test_image"
   ]
  },
  {
   "cell_type": "code",
   "execution_count": 26,
   "metadata": {},
   "outputs": [],
   "source": [
    "## Convert image to array\n",
    "test_image = image.img_to_array(test_image)"
   ]
  },
  {
   "cell_type": "code",
   "execution_count": 27,
   "metadata": {},
   "outputs": [
    {
     "data": {
      "text/plain": [
       "(64, 64, 3)"
      ]
     },
     "execution_count": 27,
     "metadata": {},
     "output_type": "execute_result"
    }
   ],
   "source": [
    "test_image.shape"
   ]
  },
  {
   "cell_type": "code",
   "execution_count": 28,
   "metadata": {},
   "outputs": [],
   "source": [
    "## For single prediction change the dimension . \n",
    "\n",
    "test_image=test_image.reshape(1,64,64,3)"
   ]
  },
  {
   "cell_type": "code",
   "execution_count": 29,
   "metadata": {},
   "outputs": [
    {
     "name": "stdout",
     "output_type": "stream",
     "text": [
      "1/1 [==============================] - 0s 46ms/step\n"
     ]
    }
   ],
   "source": [
    "result1 = classifier.predict(test_image)"
   ]
  },
  {
   "cell_type": "code",
   "execution_count": 30,
   "metadata": {},
   "outputs": [
    {
     "data": {
      "text/plain": [
       "array([[2.189389e-23]], dtype=float32)"
      ]
     },
     "execution_count": 30,
     "metadata": {},
     "output_type": "execute_result"
    }
   ],
   "source": [
    "result1"
   ]
  },
  {
   "cell_type": "code",
   "execution_count": 31,
   "metadata": {},
   "outputs": [],
   "source": [
    "# result=np.around(result)"
   ]
  },
  {
   "cell_type": "code",
   "execution_count": 32,
   "metadata": {},
   "outputs": [
    {
     "name": "stdout",
     "output_type": "stream",
     "text": [
      "cat\n"
     ]
    }
   ],
   "source": [
    "## Class label of dog and cat\n",
    "\n",
    "if result1 >= 0.5:\n",
    "        print('dog')\n",
    "else:\n",
    "        print('cat')\n",
    "    "
   ]
  },
  {
   "cell_type": "code",
   "execution_count": null,
   "metadata": {},
   "outputs": [],
   "source": []
  }
 ],
 "metadata": {
  "kernelspec": {
   "display_name": "Python 3 (ipykernel)",
   "language": "python",
   "name": "python3"
  },
  "language_info": {
   "codemirror_mode": {
    "name": "ipython",
    "version": 3
   },
   "file_extension": ".py",
   "mimetype": "text/x-python",
   "name": "python",
   "nbconvert_exporter": "python",
   "pygments_lexer": "ipython3",
   "version": "3.8.15"
  }
 },
 "nbformat": 4,
 "nbformat_minor": 2
}
