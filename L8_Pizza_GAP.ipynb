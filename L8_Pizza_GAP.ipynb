{
 "cells": [
  {
   "cell_type": "markdown",
   "metadata": {},
   "source": [
    "# Global Average Pooling"
   ]
  },
  {
   "cell_type": "code",
   "execution_count": 1,
   "metadata": {},
   "outputs": [],
   "source": [
    "# Convolutional Neural Network (GOOD PIZZA  vs BURNT PIZZA)\n",
    "\n",
    "# Building the CNN\n",
    "\n",
    "#Importing Libraries\n",
    "from tensorflow.keras.preprocessing.image import ImageDataGenerator\n",
    "from tensorflow.keras.models import Sequential \n",
    "from tensorflow.keras.layers import Conv2D,MaxPooling2D,Activation,Dropout,Flatten,Dense, BatchNormalization,GlobalAvgPool2D\n",
    "from tensorflow.keras import backend as K\n",
    "import numpy as np\n",
    "from tensorflow.keras.preprocessing import image\n"
   ]
  },
  {
   "cell_type": "code",
   "execution_count": 2,
   "metadata": {},
   "outputs": [],
   "source": [
    "#loading data\n",
    "\n",
    "image_width=150\n",
    "image_height=150\n",
    "\n",
    "train_data_dir=r'data/pizza_ds/Train'\n",
    "test_data_dir=r'data/pizza_ds/Test'\n",
    "validation_data_dir=r'data/pizza_ds/Val'\n",
    "\n",
    "#train_sample=30\n",
    "#validation_sample=25\n",
    "test_sample=50\n",
    "\n",
    "#epochs=30\n",
    "batch_size=12\n",
    "test_size=50"
   ]
  },
  {
   "cell_type": "code",
   "execution_count": 3,
   "metadata": {},
   "outputs": [],
   "source": [
    "if K.image_data_format() == 'channels_first':\n",
    "    input_shape= (3,image_width,image_height)\n",
    "else :\n",
    "    input_shape= (image_width,image_height,3)"
   ]
  },
  {
   "cell_type": "code",
   "execution_count": 4,
   "metadata": {},
   "outputs": [],
   "source": [
    "# Data Augmentation\n",
    "\n",
    "train_datagen= ImageDataGenerator(rotation_range=40,\n",
    "                                  width_shift_range=0.2,\n",
    "                                  height_shift_range=0.2,\n",
    "                                  shear_range=0.2,\n",
    "                                  zoom_range=0.2,\n",
    "                                  rescale=1./255,\n",
    "                                  horizontal_flip=True,\n",
    "                                  fill_mode='nearest');\n",
    "\n",
    "validation_datagen= ImageDataGenerator(rescale=1./255)\n",
    "test_datagen=ImageDataGenerator(rescale=1./255)"
   ]
  },
  {
   "cell_type": "code",
   "execution_count": 5,
   "metadata": {},
   "outputs": [
    {
     "name": "stdout",
     "output_type": "stream",
     "text": [
      "Found 566 images belonging to 2 classes.\n",
      "Found 221 images belonging to 2 classes.\n",
      "Found 199 images belonging to 2 classes.\n"
     ]
    }
   ],
   "source": [
    "train_genarator= train_datagen.flow_from_directory(train_data_dir,\n",
    "                                                   target_size=(image_width,image_height),\n",
    "                                                   batch_size=batch_size,\n",
    "                                                   class_mode='binary')\n",
    "\n",
    "\n",
    "validation_genarator= validation_datagen.flow_from_directory(validation_data_dir,\n",
    "                                                             target_size=(image_width,image_height),\n",
    "                                                             batch_size=batch_size,\n",
    "                                                             class_mode='binary')\n",
    "\n",
    "\n",
    "test_genarator= test_datagen.flow_from_directory(test_data_dir,\n",
    "                                                 target_size=(image_width,image_height),\n",
    "                                                 batch_size=test_size,\n",
    "                                                 class_mode='binary')"
   ]
  },
  {
   "cell_type": "markdown",
   "metadata": {},
   "source": [
    "model.add(GlobalAvgPool2D())  which is going to take average of all the feature maps & it is directly fed to the o/p layer.\n",
    " \n",
    "no flattening, no elimination of dense layers, all of that can be elimited."
   ]
  },
  {
   "cell_type": "code",
   "execution_count": 6,
   "metadata": {},
   "outputs": [
    {
     "name": "stderr",
     "output_type": "stream",
     "text": [
      "2023-09-30 14:02:55.193379: I tensorflow/core/platform/cpu_feature_guard.cc:193] This TensorFlow binary is optimized with oneAPI Deep Neural Network Library (oneDNN) to use the following CPU instructions in performance-critical operations:  SSE4.1 SSE4.2\n",
      "To enable them in other operations, rebuild TensorFlow with the appropriate compiler flags.\n"
     ]
    }
   ],
   "source": [
    "# Build model\n",
    "\n",
    "# Initialising the CNN\n",
    "\n",
    "model = Sequential()\n",
    "# Convolution\n",
    "model.add(Conv2D(32,(3,3),input_shape=input_shape, activation='relu'))\n",
    "\n",
    "# Pooling\n",
    "model.add(MaxPooling2D(pool_size=(2,2)))\n",
    "# Adding a second convolutional layer\n",
    "model.add(Conv2D(32,(3,3),input_shape=input_shape, activation='relu'))\n",
    "model.add(MaxPooling2D(pool_size=(2,2)))\n",
    "\n",
    "# Adding a third convolutional layer\n",
    "model.add(Conv2D(64,(3,3),input_shape=input_shape))\n",
    "model.add(Activation('relu'))\n",
    "model.add(MaxPooling2D(pool_size=(2,2)))\n",
    "# Flattening\n",
    "model.add(GlobalAvgPool2D())    \n",
    "\n",
    "# Full connection\n",
    "# model.add(Dense(64, activation='relu',))\n",
    "# model.add(BatchNormalization())\n",
    "\n",
    "model.add(Dense(1, activation='sigmoid'))\n",
    "\n",
    "# Compiling the CNN\n",
    "model.compile(loss='binary_crossentropy',optimizer='adam',metrics=['accuracy'])"
   ]
  },
  {
   "cell_type": "code",
   "execution_count": 7,
   "metadata": {},
   "outputs": [
    {
     "name": "stdout",
     "output_type": "stream",
     "text": [
      "Model: \"sequential\"\n",
      "_________________________________________________________________\n",
      " Layer (type)                Output Shape              Param #   \n",
      "=================================================================\n",
      " conv2d (Conv2D)             (None, 148, 148, 32)      896       \n",
      "                                                                 \n",
      " max_pooling2d (MaxPooling2D  (None, 74, 74, 32)       0         \n",
      " )                                                               \n",
      "                                                                 \n",
      " conv2d_1 (Conv2D)           (None, 72, 72, 32)        9248      \n",
      "                                                                 \n",
      " max_pooling2d_1 (MaxPooling  (None, 36, 36, 32)       0         \n",
      " 2D)                                                             \n",
      "                                                                 \n",
      " conv2d_2 (Conv2D)           (None, 34, 34, 64)        18496     \n",
      "                                                                 \n",
      " activation (Activation)     (None, 34, 34, 64)        0         \n",
      "                                                                 \n",
      " max_pooling2d_2 (MaxPooling  (None, 17, 17, 64)       0         \n",
      " 2D)                                                             \n",
      "                                                                 \n",
      " global_average_pooling2d (G  (None, 64)               0         \n",
      " lobalAveragePooling2D)                                          \n",
      "                                                                 \n",
      " dense (Dense)               (None, 1)                 65        \n",
      "                                                                 \n",
      "=================================================================\n",
      "Total params: 28,705\n",
      "Trainable params: 28,705\n",
      "Non-trainable params: 0\n",
      "_________________________________________________________________\n"
     ]
    }
   ],
   "source": [
    "model.summary()"
   ]
  },
  {
   "cell_type": "markdown",
   "metadata": {},
   "source": [
    "The number of trainable parameters r v less here compared to if we had a fully connected dense n/w.\n",
    "\n",
    "In Global average pooling layer its just the avg u take there r no trainable parameters same like in MaxPool."
   ]
  },
  {
   "attachments": {
    "image.png": {
     "image/png": "[encoded data removed]"
    }
   },
   "cell_type": "markdown",
   "metadata": {},
   "source": [
    "![image.png](attachment:image.png)"
   ]
  },
  {
   "cell_type": "markdown",
   "metadata": {},
   "source": [
    "### Why called as Global Average Pooling ?\n",
    "\n",
    "For instance, if the input to the global_average_pooling2d layer is of shape (17, 17, 64), it will compute the average of the 17 x 17 values for each of the 64 channels, producing an output of shape (64,).\n",
    "\n",
    "The term \"global\" in global_average_pooling2d refers to the operation being applied over the entire spatial extent of the feature map, as opposed to \"local\" pooling operations like typical max pooling or average pooling layers, which operate over smaller, local regions of the feature map."
   ]
  },
  {
   "cell_type": "code",
   "execution_count": 8,
   "metadata": {
    "scrolled": true
   },
   "outputs": [
    {
     "name": "stdout",
     "output_type": "stream",
     "text": [
      "starting training....\n",
      "Epoch 1/10\n",
      "47/47 [==============================] - 5s 106ms/step - loss: 0.6952 - accuracy: 0.5181 - val_loss: 0.6778 - val_accuracy: 0.5833\n",
      "Epoch 2/10\n",
      "47/47 [==============================] - 5s 101ms/step - loss: 0.6713 - accuracy: 0.5560 - val_loss: 0.5740 - val_accuracy: 0.8380\n",
      "Epoch 3/10\n",
      "47/47 [==============================] - 5s 101ms/step - loss: 0.6472 - accuracy: 0.6390 - val_loss: 0.5245 - val_accuracy: 0.8194\n",
      "Epoch 4/10\n",
      "47/47 [==============================] - 5s 101ms/step - loss: 0.6156 - accuracy: 0.6733 - val_loss: 0.4703 - val_accuracy: 0.7731\n",
      "Epoch 5/10\n",
      "47/47 [==============================] - 5s 98ms/step - loss: 0.5923 - accuracy: 0.6751 - val_loss: 0.4916 - val_accuracy: 0.8148\n",
      "Epoch 6/10\n",
      "47/47 [==============================] - 5s 103ms/step - loss: 0.5841 - accuracy: 0.6859 - val_loss: 0.7056 - val_accuracy: 0.6389\n",
      "Epoch 7/10\n",
      "47/47 [==============================] - 5s 99ms/step - loss: 0.6095 - accuracy: 0.6625 - val_loss: 0.5934 - val_accuracy: 0.6852\n",
      "Epoch 8/10\n",
      "47/47 [==============================] - 5s 96ms/step - loss: 0.5999 - accuracy: 0.6823 - val_loss: 0.5228 - val_accuracy: 0.7361\n",
      "Epoch 9/10\n",
      "47/47 [==============================] - 5s 97ms/step - loss: 0.5743 - accuracy: 0.7112 - val_loss: 0.4897 - val_accuracy: 0.7870\n",
      "Epoch 10/10\n",
      "47/47 [==============================] - 5s 97ms/step - loss: 0.5640 - accuracy: 0.7022 - val_loss: 0.5400 - val_accuracy: 0.7269\n"
     ]
    },
    {
     "data": {
      "text/plain": [
       "<keras.callbacks.History at 0x7fe8318bf460>"
      ]
     },
     "execution_count": 8,
     "metadata": {},
     "output_type": "execute_result"
    }
   ],
   "source": [
    "### Fitting the CNN to the images\n",
    "\n",
    "print('starting training....')\n",
    "\n",
    "model.fit(train_genarator,steps_per_epoch=train_genarator.samples//batch_size,\n",
    "          epochs=10,\n",
    "          validation_data=validation_genarator,\n",
    "          validation_steps=validation_genarator.samples//batch_size)"
   ]
  },
  {
   "cell_type": "code",
   "execution_count": 9,
   "metadata": {},
   "outputs": [
    {
     "name": "stdout",
     "output_type": "stream",
     "text": [
      "4/4 [==============================] - 1s 111ms/step - loss: 0.6515 - accuracy: 0.6131\n"
     ]
    },
    {
     "data": {
      "text/plain": [
       "[0.6514607071876526, 0.6130653023719788]"
      ]
     },
     "execution_count": 9,
     "metadata": {},
     "output_type": "execute_result"
    }
   ],
   "source": [
    "model.evaluate(test_genarator)"
   ]
  },
  {
   "cell_type": "code",
   "execution_count": 10,
   "metadata": {},
   "outputs": [
    {
     "name": "stdout",
     "output_type": "stream",
     "text": [
      "training finished!!\n"
     ]
    }
   ],
   "source": [
    "print('training finished!!')"
   ]
  },
  {
   "cell_type": "code",
   "execution_count": 11,
   "metadata": {},
   "outputs": [],
   "source": [
    "def obtain_inference(img):\n",
    "    im = image.img_to_array(img)\n",
    "    img1 = im/255\n",
    "    img1 = img1.reshape((1,150,150,3))\n",
    "    prediction = model.predict(img1)\n",
    "    if prediction > 0.5:\n",
    "        print('Good Pizza')\n",
    "    else:\n",
    "        print('Burnt Pizza')"
   ]
  },
  {
   "cell_type": "code",
   "execution_count": 12,
   "metadata": {},
   "outputs": [
    {
     "name": "stdout",
     "output_type": "stream",
     "text": [
      "1/1 [==============================] - 0s 56ms/step\n",
      "Good Pizza\n"
     ]
    }
   ],
   "source": [
    "img1 = image.load_img(r'data/pizza_ds/Test/Good/good (100).jpg',target_size=(150,150))\n",
    "obtain_inference(img1)"
   ]
  },
  {
   "cell_type": "code",
   "execution_count": 13,
   "metadata": {},
   "outputs": [
    {
     "name": "stdout",
     "output_type": "stream",
     "text": [
      "1/1 [==============================] - 0s 15ms/step\n",
      "Burnt Pizza\n"
     ]
    }
   ],
   "source": [
    "img2 = image.load_img(r'data/pizza_ds/Test/Burnt/170.jpg',target_size=(150,150))\n",
    "obtain_inference(img2)"
   ]
  },
  {
   "cell_type": "markdown",
   "metadata": {},
   "source": [
    "### About Global Average Pooling\n",
    "\n",
    "\n",
    "    1.Global Average Pooling is a pooling operation designed to replace fully connected layers in classical CNNs.\n",
    "    \n",
    "    2.Instead of adding fully connected layers on top of the feature maps, we take the average of each feature map, and the resulting vector is fed directly into the output layer.\n",
    "    \n",
    "    3.No parameter to optimize in the global average pooling thus overfitting is avoided at this layer.\n",
    "    \n",
    "    4. Suppose there are 64 feature maps each of 100X100, then GAP takes the average of these 64 feature maps resulting in    64 values which are fed into the output layer directly\n",
    "    \n",
    "    5. GAP is proven to work better than having dense fully connected layers."
   ]
  },
  {
   "cell_type": "markdown",
   "metadata": {},
   "source": [
    "*Fully connected layers take more processing time, have more trainable parameters, when u flatten it increases number of dimensions, so we get rid of this & directly feed convolution o/p to final o/p layer without needing any dense layers/hidden layers/fully connected layers in between.*"
   ]
  },
  {
   "cell_type": "code",
   "execution_count": null,
   "metadata": {},
   "outputs": [],
   "source": []
  }
 ],
 "metadata": {
  "kernelspec": {
   "display_name": "Python 3 (ipykernel)",
   "language": "python",
   "name": "python3"
  },
  "language_info": {
   "codemirror_mode": {
    "name": "ipython",
    "version": 3
   },
   "file_extension": ".py",
   "mimetype": "text/x-python",
   "name": "python",
   "nbconvert_exporter": "python",
   "pygments_lexer": "ipython3",
   "version": "3.8.18"
  }
 },
 "nbformat": 4,
 "nbformat_minor": 4
}
